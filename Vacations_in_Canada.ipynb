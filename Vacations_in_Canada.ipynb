{
  "nbformat": 4,
  "nbformat_minor": 0,
  "metadata": {
    "colab": {
      "name": "Vacations in Canada.ipynb",
      "provenance": []
    },
    "kernelspec": {
      "name": "python3",
      "display_name": "Python 3"
    }
  },
  "cells": [
    {
      "cell_type": "markdown",
      "metadata": {
        "id": "eh_WjrGmpVyQ",
        "colab_type": "text"
      },
      "source": [
        "##Introduction:\n",
        "The purpose of this Project is to help people making smart and efficient decision on selecting the best place to vacation in Canada according their tastes.\n",
        "\n",
        "When people want to vacation or visit new and different places sometimes they get hard times finding the exact place they are looking for, talking about climate, culture, time to travel, etc.\n",
        "\n",
        "This project is for help those people who are looking for visit exciting places according their tastes. Could be a little town to discover a culture, lake, beach, forest, mountains, etc.\n",
        "\n",
        "This Project aim to create an analysis of features for people vacationing in Canada. The features include weather conditions, distance, kind of place, road, time to travel, food you can find, budget.\n",
        "\n",
        "##Problem Which Tried to Solve:\n",
        "The major purpose of this project, is to suggest a place to visit for vacations according to what you like and dislike. \n",
        "\n",
        "##The Location:\n",
        "Canada is a big country with lots of places to visit with different Weather conditions.\n",
        "\n",
        "##Data\n",
        "This project would use Four-square API as its prime data gathering source as it has a database of millions of places, especially their places API which provides the ability to perform location search, location sharing and details.\n",
        "\n"
      ]
    },
    {
      "cell_type": "code",
      "metadata": {
        "id": "-sTVLyiBpZ4S",
        "colab_type": "code",
        "colab": {}
      },
      "source": [
        ""
      ],
      "execution_count": null,
      "outputs": []
    }
  ]
}